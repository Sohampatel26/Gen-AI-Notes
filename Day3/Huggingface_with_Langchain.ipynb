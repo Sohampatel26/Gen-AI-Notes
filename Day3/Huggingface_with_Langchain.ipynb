{
 "cells": [
  {
   "cell_type": "markdown",
   "metadata": {},
   "source": [
    "# Step 1: Installing all required Libraries"
   ]
  },
  {
   "cell_type": "code",
   "execution_count": 1,
   "metadata": {},
   "outputs": [
    {
     "name": "stdout",
     "output_type": "stream",
     "text": [
      "Requirement already satisfied: huggingface_hub in /Users/soham/Documents/GitHub/Gen-AI-Notes/venv/lib/python3.12/site-packages (0.24.6)\n",
      "Requirement already satisfied: filelock in /Users/soham/Documents/GitHub/Gen-AI-Notes/venv/lib/python3.12/site-packages (from huggingface_hub) (3.15.4)\n",
      "Requirement already satisfied: fsspec>=2023.5.0 in /Users/soham/Documents/GitHub/Gen-AI-Notes/venv/lib/python3.12/site-packages (from huggingface_hub) (2024.6.1)\n",
      "Requirement already satisfied: packaging>=20.9 in /Users/soham/Documents/GitHub/Gen-AI-Notes/venv/lib/python3.12/site-packages (from huggingface_hub) (24.1)\n",
      "Requirement already satisfied: pyyaml>=5.1 in /Users/soham/Documents/GitHub/Gen-AI-Notes/venv/lib/python3.12/site-packages (from huggingface_hub) (6.0.2)\n",
      "Requirement already satisfied: requests in /Users/soham/Documents/GitHub/Gen-AI-Notes/venv/lib/python3.12/site-packages (from huggingface_hub) (2.32.3)\n",
      "Requirement already satisfied: tqdm>=4.42.1 in /Users/soham/Documents/GitHub/Gen-AI-Notes/venv/lib/python3.12/site-packages (from huggingface_hub) (4.66.5)\n",
      "Requirement already satisfied: typing-extensions>=3.7.4.3 in /Users/soham/Documents/GitHub/Gen-AI-Notes/venv/lib/python3.12/site-packages (from huggingface_hub) (4.12.2)\n",
      "Requirement already satisfied: charset-normalizer<4,>=2 in /Users/soham/Documents/GitHub/Gen-AI-Notes/venv/lib/python3.12/site-packages (from requests->huggingface_hub) (3.3.2)\n",
      "Requirement already satisfied: idna<4,>=2.5 in /Users/soham/Documents/GitHub/Gen-AI-Notes/venv/lib/python3.12/site-packages (from requests->huggingface_hub) (3.8)\n",
      "Requirement already satisfied: urllib3<3,>=1.21.1 in /Users/soham/Documents/GitHub/Gen-AI-Notes/venv/lib/python3.12/site-packages (from requests->huggingface_hub) (2.2.2)\n",
      "Requirement already satisfied: certifi>=2017.4.17 in /Users/soham/Documents/GitHub/Gen-AI-Notes/venv/lib/python3.12/site-packages (from requests->huggingface_hub) (2024.8.30)\n",
      "Requirement already satisfied: transformers in /Users/soham/Documents/GitHub/Gen-AI-Notes/venv/lib/python3.12/site-packages (4.44.2)\n",
      "Requirement already satisfied: filelock in /Users/soham/Documents/GitHub/Gen-AI-Notes/venv/lib/python3.12/site-packages (from transformers) (3.15.4)\n",
      "Requirement already satisfied: huggingface-hub<1.0,>=0.23.2 in /Users/soham/Documents/GitHub/Gen-AI-Notes/venv/lib/python3.12/site-packages (from transformers) (0.24.6)\n",
      "Requirement already satisfied: numpy>=1.17 in /Users/soham/Documents/GitHub/Gen-AI-Notes/venv/lib/python3.12/site-packages (from transformers) (1.26.4)\n",
      "Requirement already satisfied: packaging>=20.0 in /Users/soham/Documents/GitHub/Gen-AI-Notes/venv/lib/python3.12/site-packages (from transformers) (24.1)\n",
      "Requirement already satisfied: pyyaml>=5.1 in /Users/soham/Documents/GitHub/Gen-AI-Notes/venv/lib/python3.12/site-packages (from transformers) (6.0.2)\n",
      "Requirement already satisfied: regex!=2019.12.17 in /Users/soham/Documents/GitHub/Gen-AI-Notes/venv/lib/python3.12/site-packages (from transformers) (2024.7.24)\n",
      "Requirement already satisfied: requests in /Users/soham/Documents/GitHub/Gen-AI-Notes/venv/lib/python3.12/site-packages (from transformers) (2.32.3)\n",
      "Requirement already satisfied: safetensors>=0.4.1 in /Users/soham/Documents/GitHub/Gen-AI-Notes/venv/lib/python3.12/site-packages (from transformers) (0.4.4)\n",
      "Requirement already satisfied: tokenizers<0.20,>=0.19 in /Users/soham/Documents/GitHub/Gen-AI-Notes/venv/lib/python3.12/site-packages (from transformers) (0.19.1)\n",
      "Requirement already satisfied: tqdm>=4.27 in /Users/soham/Documents/GitHub/Gen-AI-Notes/venv/lib/python3.12/site-packages (from transformers) (4.66.5)\n",
      "Requirement already satisfied: fsspec>=2023.5.0 in /Users/soham/Documents/GitHub/Gen-AI-Notes/venv/lib/python3.12/site-packages (from huggingface-hub<1.0,>=0.23.2->transformers) (2024.6.1)\n",
      "Requirement already satisfied: typing-extensions>=3.7.4.3 in /Users/soham/Documents/GitHub/Gen-AI-Notes/venv/lib/python3.12/site-packages (from huggingface-hub<1.0,>=0.23.2->transformers) (4.12.2)\n",
      "Requirement already satisfied: charset-normalizer<4,>=2 in /Users/soham/Documents/GitHub/Gen-AI-Notes/venv/lib/python3.12/site-packages (from requests->transformers) (3.3.2)\n",
      "Requirement already satisfied: idna<4,>=2.5 in /Users/soham/Documents/GitHub/Gen-AI-Notes/venv/lib/python3.12/site-packages (from requests->transformers) (3.8)\n",
      "Requirement already satisfied: urllib3<3,>=1.21.1 in /Users/soham/Documents/GitHub/Gen-AI-Notes/venv/lib/python3.12/site-packages (from requests->transformers) (2.2.2)\n",
      "Requirement already satisfied: certifi>=2017.4.17 in /Users/soham/Documents/GitHub/Gen-AI-Notes/venv/lib/python3.12/site-packages (from requests->transformers) (2024.8.30)\n",
      "Requirement already satisfied: accelerate in /Users/soham/Documents/GitHub/Gen-AI-Notes/venv/lib/python3.12/site-packages (0.34.0)\n",
      "Requirement already satisfied: numpy<3.0.0,>=1.17 in /Users/soham/Documents/GitHub/Gen-AI-Notes/venv/lib/python3.12/site-packages (from accelerate) (1.26.4)\n",
      "Requirement already satisfied: packaging>=20.0 in /Users/soham/Documents/GitHub/Gen-AI-Notes/venv/lib/python3.12/site-packages (from accelerate) (24.1)\n",
      "Requirement already satisfied: psutil in /Users/soham/Documents/GitHub/Gen-AI-Notes/venv/lib/python3.12/site-packages (from accelerate) (6.0.0)\n",
      "Requirement already satisfied: pyyaml in /Users/soham/Documents/GitHub/Gen-AI-Notes/venv/lib/python3.12/site-packages (from accelerate) (6.0.2)\n",
      "Requirement already satisfied: torch>=1.10.0 in /Users/soham/Documents/GitHub/Gen-AI-Notes/venv/lib/python3.12/site-packages (from accelerate) (2.4.0)\n",
      "Requirement already satisfied: huggingface-hub>=0.21.0 in /Users/soham/Documents/GitHub/Gen-AI-Notes/venv/lib/python3.12/site-packages (from accelerate) (0.24.6)\n",
      "Requirement already satisfied: safetensors>=0.4.3 in /Users/soham/Documents/GitHub/Gen-AI-Notes/venv/lib/python3.12/site-packages (from accelerate) (0.4.4)\n",
      "Requirement already satisfied: filelock in /Users/soham/Documents/GitHub/Gen-AI-Notes/venv/lib/python3.12/site-packages (from huggingface-hub>=0.21.0->accelerate) (3.15.4)\n",
      "Requirement already satisfied: fsspec>=2023.5.0 in /Users/soham/Documents/GitHub/Gen-AI-Notes/venv/lib/python3.12/site-packages (from huggingface-hub>=0.21.0->accelerate) (2024.6.1)\n",
      "Requirement already satisfied: requests in /Users/soham/Documents/GitHub/Gen-AI-Notes/venv/lib/python3.12/site-packages (from huggingface-hub>=0.21.0->accelerate) (2.32.3)\n",
      "Requirement already satisfied: tqdm>=4.42.1 in /Users/soham/Documents/GitHub/Gen-AI-Notes/venv/lib/python3.12/site-packages (from huggingface-hub>=0.21.0->accelerate) (4.66.5)\n",
      "Requirement already satisfied: typing-extensions>=3.7.4.3 in /Users/soham/Documents/GitHub/Gen-AI-Notes/venv/lib/python3.12/site-packages (from huggingface-hub>=0.21.0->accelerate) (4.12.2)\n",
      "Requirement already satisfied: sympy in /Users/soham/Documents/GitHub/Gen-AI-Notes/venv/lib/python3.12/site-packages (from torch>=1.10.0->accelerate) (1.13.2)\n",
      "Requirement already satisfied: networkx in /Users/soham/Documents/GitHub/Gen-AI-Notes/venv/lib/python3.12/site-packages (from torch>=1.10.0->accelerate) (3.3)\n",
      "Requirement already satisfied: jinja2 in /Users/soham/Documents/GitHub/Gen-AI-Notes/venv/lib/python3.12/site-packages (from torch>=1.10.0->accelerate) (3.1.4)\n",
      "Requirement already satisfied: setuptools in /Users/soham/Documents/GitHub/Gen-AI-Notes/venv/lib/python3.12/site-packages (from torch>=1.10.0->accelerate) (72.2.0)\n",
      "Requirement already satisfied: MarkupSafe>=2.0 in /Users/soham/Documents/GitHub/Gen-AI-Notes/venv/lib/python3.12/site-packages (from jinja2->torch>=1.10.0->accelerate) (2.1.5)\n",
      "Requirement already satisfied: charset-normalizer<4,>=2 in /Users/soham/Documents/GitHub/Gen-AI-Notes/venv/lib/python3.12/site-packages (from requests->huggingface-hub>=0.21.0->accelerate) (3.3.2)\n",
      "Requirement already satisfied: idna<4,>=2.5 in /Users/soham/Documents/GitHub/Gen-AI-Notes/venv/lib/python3.12/site-packages (from requests->huggingface-hub>=0.21.0->accelerate) (3.8)\n",
      "Requirement already satisfied: urllib3<3,>=1.21.1 in /Users/soham/Documents/GitHub/Gen-AI-Notes/venv/lib/python3.12/site-packages (from requests->huggingface-hub>=0.21.0->accelerate) (2.2.2)\n",
      "Requirement already satisfied: certifi>=2017.4.17 in /Users/soham/Documents/GitHub/Gen-AI-Notes/venv/lib/python3.12/site-packages (from requests->huggingface-hub>=0.21.0->accelerate) (2024.8.30)\n",
      "Requirement already satisfied: mpmath<1.4,>=1.1.0 in /Users/soham/Documents/GitHub/Gen-AI-Notes/venv/lib/python3.12/site-packages (from sympy->torch>=1.10.0->accelerate) (1.3.0)\n",
      "Requirement already satisfied: bitsandbytes in /Users/soham/Documents/GitHub/Gen-AI-Notes/venv/lib/python3.12/site-packages (0.42.0)\n",
      "Requirement already satisfied: scipy in /Users/soham/Documents/GitHub/Gen-AI-Notes/venv/lib/python3.12/site-packages (from bitsandbytes) (1.14.1)\n",
      "Requirement already satisfied: numpy<2.3,>=1.23.5 in /Users/soham/Documents/GitHub/Gen-AI-Notes/venv/lib/python3.12/site-packages (from scipy->bitsandbytes) (1.26.4)\n"
     ]
    }
   ],
   "source": [
    "!pip install huggingface_hub\n",
    "!pip install transformers\n",
    "!pip install accelerate\n",
    "!pip install bitsandbytes"
   ]
  },
  {
   "cell_type": "markdown",
   "metadata": {},
   "source": [
    "# Step 2: Importing all the libraries"
   ]
  },
  {
   "cell_type": "code",
   "execution_count": 2,
   "metadata": {},
   "outputs": [],
   "source": [
    "from langchain import PromptTemplate, HuggingFaceHub, LLMChain"
   ]
  },
  {
   "cell_type": "code",
   "execution_count": null,
   "metadata": {},
   "outputs": [],
   "source": [
    "import os\n",
    "#os.environ['HUGGINGFACEHUB_API_TOKEN']=\"Enter your secret huggingface key\""
   ]
  },
  {
   "cell_type": "markdown",
   "metadata": {},
   "source": [
    "Commenting above code cause git wouldn't allow me to push secret key."
   ]
  },
  {
   "cell_type": "markdown",
   "metadata": {},
   "source": [
    "# Text to text generation models | Seq to Seq models | Encoder-Decoder Models"
   ]
  },
  {
   "cell_type": "code",
   "execution_count": 4,
   "metadata": {},
   "outputs": [],
   "source": [
    "prompt= PromptTemplate(\n",
    "    input_variables=[\"Product\"],\n",
    "    template=\"Suggest me a new company name for a new startup of mine making {Product}\"\n",
    ")"
   ]
  },
  {
   "cell_type": "markdown",
   "metadata": {},
   "source": [
    "Below is the format wher I added a llm model to the Langchain chain, just need to replace name of model copied from HuggingFace within repo_id. "
   ]
  },
  {
   "cell_type": "code",
   "execution_count": 5,
   "metadata": {},
   "outputs": [
    {
     "name": "stderr",
     "output_type": "stream",
     "text": [
      "/var/folders/vw/24j_z4k52kjgr5sq77sd2_h40000gn/T/ipykernel_7251/1335411395.py:1: LangChainDeprecationWarning: The class `HuggingFaceHub` was deprecated in LangChain 0.0.21 and will be removed in 1.0. An updated version of the class exists in the langchain-huggingface package and should be used instead. To use it run `pip install -U langchain-huggingface` and import as `from langchain_huggingface import HuggingFaceEndpoint`.\n",
      "  chain = LLMChain(llm=HuggingFaceHub(repo_id=\"google/flan-t5-large\", model_kwargs={'temperature':0}),prompt = prompt)\n",
      "/Users/soham/Documents/GitHub/Gen-AI-Notes/venv/lib/python3.12/site-packages/tqdm/auto.py:21: TqdmWarning: IProgress not found. Please update jupyter and ipywidgets. See https://ipywidgets.readthedocs.io/en/stable/user_install.html\n",
      "  from .autonotebook import tqdm as notebook_tqdm\n",
      "/var/folders/vw/24j_z4k52kjgr5sq77sd2_h40000gn/T/ipykernel_7251/1335411395.py:1: LangChainDeprecationWarning: The class `LLMChain` was deprecated in LangChain 0.1.17 and will be removed in 1.0. Use RunnableSequence, e.g., `prompt | llm` instead.\n",
      "  chain = LLMChain(llm=HuggingFaceHub(repo_id=\"google/flan-t5-large\", model_kwargs={'temperature':0}),prompt = prompt)\n"
     ]
    }
   ],
   "source": [
    "chain = LLMChain(llm=HuggingFaceHub(repo_id=\"google/flan-t5-large\", model_kwargs={'temperature':0}),prompt = prompt)"
   ]
  },
  {
   "cell_type": "markdown",
   "metadata": {},
   "source": [
    "The HuggingFaceHub by langchain is the wrapper over the Hugging Face transformer library same as keras over tensorflow"
   ]
  },
  {
   "cell_type": "code",
   "execution_count": 6,
   "metadata": {},
   "outputs": [
    {
     "name": "stderr",
     "output_type": "stream",
     "text": [
      "/var/folders/vw/24j_z4k52kjgr5sq77sd2_h40000gn/T/ipykernel_7251/630816975.py:1: LangChainDeprecationWarning: The method `Chain.run` was deprecated in langchain 0.1.0 and will be removed in 1.0. Use invoke instead.\n",
      "  print(chain.run(\"flamethrower\").strip())\n"
     ]
    },
    {
     "name": "stdout",
     "output_type": "stream",
     "text": [
      "Xtreme\n"
     ]
    }
   ],
   "source": [
    "print(chain.run(\"flamethrower\").strip())"
   ]
  },
  {
   "cell_type": "code",
   "execution_count": 7,
   "metadata": {},
   "outputs": [],
   "source": [
    "prompt2= PromptTemplate(\n",
    "    input_variables=[\"Product\"],\n",
    "    template=\"How to make {Product}\"\n",
    ")"
   ]
  },
  {
   "cell_type": "code",
   "execution_count": 8,
   "metadata": {},
   "outputs": [],
   "source": [
    "chain2 = LLMChain(llm=HuggingFaceHub(repo_id=\"facebook/blenderbot-3B\", model_kwargs={'temperature':0}),prompt = prompt2)"
   ]
  },
  {
   "cell_type": "code",
   "execution_count": 9,
   "metadata": {},
   "outputs": [
    {
     "name": "stdout",
     "output_type": "stream",
     "text": [
      "I love tea! It's one of the most popular beverages in the world.\n"
     ]
    }
   ],
   "source": [
    "print(chain2.run(\"tea\").strip())"
   ]
  },
  {
   "cell_type": "markdown",
   "metadata": {},
   "source": [
    "Maybe model is not so good with the prompt I gave"
   ]
  },
  {
   "cell_type": "code",
   "execution_count": 10,
   "metadata": {},
   "outputs": [],
   "source": [
    "chain3 = LLMChain(llm=HuggingFaceHub(repo_id=\"microsoft/phi-2\", model_kwargs={'temperature':0.7}),prompt = prompt)"
   ]
  },
  {
   "cell_type": "code",
   "execution_count": 11,
   "metadata": {},
   "outputs": [
    {
     "name": "stdout",
     "output_type": "stream",
     "text": [
      "Suggest me a new company name for a new startup of mine making Flamethrower-style weed eaters.\n",
      "Answer: Blaze.\n"
     ]
    }
   ],
   "source": [
    "print(chain3.run(\"Flamethrower\").strip())"
   ]
  },
  {
   "cell_type": "markdown",
   "metadata": {},
   "source": [
    "# Text Generation Models | Decoder Only Models"
   ]
  },
  {
   "cell_type": "markdown",
   "metadata": {},
   "source": [
    "Trying to download the model on local device before using it"
   ]
  },
  {
   "cell_type": "code",
   "execution_count": 12,
   "metadata": {},
   "outputs": [],
   "source": [
    "from langchain.llms import HuggingFacePipeline\n",
    "import torch\n",
    "from transformers import AutoTokenizer, AutoModelForCausalLM, pipeline, AutoModelForSeq2SeqLM"
   ]
  },
  {
   "cell_type": "code",
   "execution_count": 14,
   "metadata": {},
   "outputs": [],
   "source": [
    "model_id=\"google/flan-t5-large\""
   ]
  },
  {
   "cell_type": "markdown",
   "metadata": {},
   "source": [
    "This line initializes the tokenizer by loading the pre-trained tokenizer associated with the model_id. The tokenizer will be used to convert text into tokens that the model can process and vice versa."
   ]
  },
  {
   "cell_type": "code",
   "execution_count": 15,
   "metadata": {},
   "outputs": [
    {
     "name": "stderr",
     "output_type": "stream",
     "text": [
      "/Users/soham/Documents/GitHub/Gen-AI-Notes/venv/lib/python3.12/site-packages/transformers/tokenization_utils_base.py:1601: FutureWarning: `clean_up_tokenization_spaces` was not set. It will be set to `True` by default. This behavior will be depracted in transformers v4.45, and will be then set to `False` by default. For more details check this issue: https://github.com/huggingface/transformers/issues/31884\n",
      "  warnings.warn(\n"
     ]
    }
   ],
   "source": [
    "tokenizer=AutoTokenizer.from_pretrained(model_id)"
   ]
  },
  {
   "cell_type": "markdown",
   "metadata": {},
   "source": [
    " This line loads the pre-trained sequence-to-sequence model (T5 in this case) from the model hub using the model_id. The device_map=\"auto\" argument tells the library to automatically distribute the model layers across available hardware devices (e.g., CPUs, GPUs)."
   ]
  },
  {
   "cell_type": "code",
   "execution_count": 16,
   "metadata": {},
   "outputs": [],
   "source": [
    "model = AutoModelForSeq2SeqLM.from_pretrained(model_id,device_map=\"auto\")"
   ]
  },
  {
   "cell_type": "markdown",
   "metadata": {},
   "source": [
    "This creates a text-to-text generation pipeline using the loaded model and tokenizer. The max_length=120 argument sets the maximum length of the generated text to 120 tokens."
   ]
  },
  {
   "cell_type": "code",
   "execution_count": 17,
   "metadata": {},
   "outputs": [],
   "source": [
    "pipeline = pipeline(\"text2text-generation\",model=model,tokenizer=tokenizer,max_length=120)"
   ]
  },
  {
   "cell_type": "markdown",
   "metadata": {},
   "source": [
    "This wraps the Hugging Face pipeline into a LangChain-compatible HuggingFacePipeline object, which can be used in LangChain applications.\n"
   ]
  },
  {
   "cell_type": "code",
   "execution_count": 18,
   "metadata": {},
   "outputs": [
    {
     "name": "stderr",
     "output_type": "stream",
     "text": [
      "/var/folders/vw/24j_z4k52kjgr5sq77sd2_h40000gn/T/ipykernel_7251/3325056798.py:1: LangChainDeprecationWarning: The class `HuggingFacePipeline` was deprecated in LangChain 0.0.37 and will be removed in 1.0. An updated version of the class exists in the langchain-huggingface package and should be used instead. To use it run `pip install -U langchain-huggingface` and import as `from langchain_huggingface import HuggingFacePipeline`.\n",
      "  local_llm=HuggingFacePipeline(pipeline=pipeline)\n"
     ]
    }
   ],
   "source": [
    "local_llm=HuggingFacePipeline(pipeline=pipeline)"
   ]
  },
  {
   "cell_type": "markdown",
   "metadata": {},
   "source": [
    "Model is now loaded on local machine and no longer needs internet to run commands."
   ]
  },
  {
   "cell_type": "code",
   "execution_count": 23,
   "metadata": {},
   "outputs": [],
   "source": [
    "prompt= PromptTemplate(\n",
    "    input_variables=[\"item\"],\n",
    "    template= \"Can you share a recipe with instructions to make {item}\"\n",
    ")"
   ]
  },
  {
   "cell_type": "code",
   "execution_count": 24,
   "metadata": {},
   "outputs": [],
   "source": [
    "chain = LLMChain(llm=local_llm, prompt = prompt)"
   ]
  },
  {
   "cell_type": "code",
   "execution_count": 26,
   "metadata": {},
   "outputs": [
    {
     "name": "stdout",
     "output_type": "stream",
     "text": [
      "To make biryani, you need: 1 1/2 cups rice, 1 1/2 cups water, 1 teaspoon turmeric, 1 teaspoon fennel seed, 1 teaspoon saffron, 1 teaspoon fennel seed, 1 teaspoon saffron, 1 teaspoon fennel seed, 1 teaspoon fennel seed, 1 teaspoon saffron, 1 teaspoon fennel seed, 1 teaspoon saffron, 1 teaspoon fennel seed, 1 teaspoon saffron, 1 teaspoon fennel seed,\n"
     ]
    }
   ],
   "source": [
    "print(chain.run(\"biryani\").strip())"
   ]
  }
 ],
 "metadata": {
  "kernelspec": {
   "display_name": "Python 3",
   "language": "python",
   "name": "python3"
  },
  "language_info": {
   "codemirror_mode": {
    "name": "ipython",
    "version": 3
   },
   "file_extension": ".py",
   "mimetype": "text/x-python",
   "name": "python",
   "nbconvert_exporter": "python",
   "pygments_lexer": "ipython3",
   "version": "3.12.5"
  }
 },
 "nbformat": 4,
 "nbformat_minor": 2
}
